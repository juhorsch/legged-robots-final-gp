{
 "cells": [
  {
   "cell_type": "markdown",
   "metadata": {},
   "source": [
    "# Legged Robots - Final Project\n",
    "\n",
    "This project focuses on the development and evaluation of a motion planning and control system for legged robots, specifically addressing the challenges of generating stable and dynamic locomotion. The project leverages a combination of Model Predictive Control (MPC) and trajectory planning to achieve coordinated movements between the robot's base body and its individual legs. The framework has been implemented within the MuJoCo simulation environment, enabling robust evaluation and rapid prototyping of different locomotion strategies.\n",
    "\n",
    "The codebase is organized into three primary components: **motion planning**, **control**, and **state estimation**. Each component is critical for achieving stable locomotion and is detailed as follows:\n",
    "\n",
    "### Motion Planning\n",
    "\n",
    "The planner is divided into two levels: a global planner responsible for the base-body motion, and a local planner that calculates foot trajectories and ground contact forces. The global planner computes continuous body motion based on desired linear and angular velocities, while the local planner, using MPC, predicts foot trajectories and contact forces for the immediate future. These planned motions serve as inputs for the control system.\n",
    "\n",
    "### Control System\n",
    "\n",
    "The control architecture consists of two controllers: one for legs in the stance phase and another for legs in the swing phase. The stance controller uses force estimates from the MPC, while the swing controller ensures that the leg follows its predefined trajectory. The outputs from both controllers are combined and applied as control inputs to the model.\n",
    "\n",
    "### State \n",
    "\n",
    "Although state estimation is essential in real-world applications, the focus of this project is on the planning and control components. Therefore, the required state variables, such as joint positions and velocities, are extracted directly from the MuJoCo simulation. Advanced operations like calculating contact Jacobians are performed using MuJoCo's inbuilt capabilities.\n",
    "\n",
    "In addition to these core components, the project incorporates several auxiliary modules, including inverse kinematics and dynamic linearization, to support various aspects of the robot’s motion."
   ]
  },
  {
   "cell_type": "code",
   "execution_count": null,
   "metadata": {},
   "outputs": [],
   "source": [
    "import numpy as np\n",
    "import matplotlib.pyplot as plt\n",
    "from project_code.constants import *\n",
    "\n",
    "%load_ext autoreload\n",
    "%autoreload 2"
   ]
  },
  {
   "cell_type": "markdown",
   "metadata": {},
   "source": [
    "## 1. Global Planning - Base Body Trajectory\n",
    "\n",
    "The `BasePlanner` class is designed as a foundational global planner, facilitating easy extensibility for future developments. This class provides two key functions:\n",
    "\n",
    "- `update(state, **kwargs)`: Updates the planner with the robot's current state. Although currently not functional, this method has been included for potential future expansion.\n",
    "  \n",
    "- `evaluate_trajectory(time)`: Computes the robot's position and velocity at a specified time, based on the desired motion parameters.\n",
    "\n",
    "### Trajectory Computation\n",
    "\n",
    "The current implementation supports two modes of trajectory generation:\n",
    "- **Straight-line motion** when only a linear velocity command is provided, or\n",
    "- **Circular motion** when both linear and angular velocity commands are specified.\n",
    "\n",
    "To avoid discontinuities in the robot's motion, an acceleration is applied until the target velocity is reached. The linear velocity is constrained to the robot's forward direction in the local frame, and angular velocity is applied as a yaw rate.\n",
    "\n",
    "### Kinematics on a Circular Arc\n",
    "\n",
    "The position $s$ and velocity $\\dot{s}$ along the arc are given by the following kinematic equations during the acceleration phase:\n",
    "\n",
    "$$\n",
    "s = \\frac{1}{2}at^2\n",
    "$$\n",
    "\n",
    "$$\n",
    "\\dot{s} = at\n",
    "$$\n",
    "\n",
    "When the velocity $\\dot{s}$ reaches the desired velocity $v_d$ at the time $t_{acc}$, the acceleration is set to zero, and the robot continues to move at a constant velocity:\n",
    "\n",
    "$$\n",
    "s = \\frac{1}{2}at_{acc}^2 + v_d (t - t_{acc})\n",
    "$$\n",
    "\n",
    "$$\n",
    "\\dot{s} = v_d\n",
    "$$\n",
    "\n",
    "### Straight-Line Trajectory (Zero Angular Velocity)\n",
    "\n",
    "In the case where the desired angular velocity is zero ($\\omega_d = 0$), the trajectory simplifies to linear motion:\n",
    "\n",
    "$$\n",
    "x = s, \\quad y = 0, \\quad \\psi = 0\n",
    "$$\n",
    "\n",
    "The corresponding velocities are:\n",
    "\n",
    "$$\n",
    "\\dot{x} = \\dot{s}, \\quad \\dot{y} = 0, \\quad \\dot{\\psi} = 0\n",
    "$$\n",
    "\n",
    "### Circular Trajectory (Non-Zero Angular Velocity)\n",
    "\n",
    "For non-zero angular velocity, the robot follows a circular trajectory with radius $r$, derived from the desired linear velocity $v_d$ and angular velocity $\\omega_d$:\n",
    "\n",
    "$$\n",
    "r = \\frac{v_d}{\\omega_d}\n",
    "$$\n",
    "\n",
    "The position and velocity in circular motion can be described as:\n",
    "\n",
    "$$\n",
    "x = r \\sin(\\psi), \\quad y = r \\left( 1 - \\cos(\\psi) \\right), \\quad \\psi = \\frac{s}{r}\n",
    "$$\n",
    "\n",
    "The corresponding velocities are:\n",
    "\n",
    "$$\n",
    "\\dot{x} = \\dot{s} \\cos(\\psi), \\quad \\dot{y} = \\dot{s} \\sin(\\psi), \\quad \\dot{\\psi} = \\frac{\\dot{s}}{r}\n",
    "$$\n",
    "\n",
    "### Planner Output\n",
    "\n",
    "The `BasePlanner` outputs the robot's position and velocity based on the above kinematic equations. Depending on the presence of angular velocity, the planner accommodates both straight-line and circular trajectories, ensuring a smooth transition between different motion phases.\n"
   ]
  },
  {
   "cell_type": "code",
   "execution_count": null,
   "metadata": {},
   "outputs": [],
   "source": [
    "from project_code.planner import BasePlanner\n",
    "from project_code.utils import plot_trajectory\n",
    "\n",
    "base_planner = BasePlanner(des_linear_velocity=1.0, # Edit these values to see how the trajectory changes\n",
    "                           des_angular_velocity=0.25,\n",
    "                           des_acceleration=0.125)\n",
    "\n",
    "time_steps = np.linspace(0, 25, 100)\n",
    "trajectory_position = []\n",
    "trajectory_velocity = []\n",
    "\n",
    "for t in time_steps:\n",
    "    o_X_b, o_V_b = base_planner.evaluate_trajectory(t)\n",
    "    trajectory_position.append(o_X_b)\n",
    "    trajectory_velocity.append(o_V_b)\n",
    "    \n",
    "trajectory_position = np.stack(trajectory_position)\n",
    "trajectory_velocity = np.stack(trajectory_velocity)\n",
    "\n",
    "plot_trajectory(trajectory_position, trajectory_velocity, time_steps)"
   ]
  },
  {
   "cell_type": "markdown",
   "metadata": {},
   "source": [
    "## 2. Local Planning - Feet Trajectory\n",
    "\n",
    "The `FootPlanner` class was the primary focus of this project, and significant attention was devoted to its development. The planner operates through four main stages, as seen in the `update(state, **kwargs)` function:\n",
    "\n",
    "- Step 1: Update the Swing Progress \n",
    "- Step 2: Update of Stance Leg Position\n",
    "- Step 3: Update of Swinging Feet Trajectories\n",
    "- Step 4: Calculation of Ground Contact Forces"
   ]
  },
  {
   "cell_type": "markdown",
   "metadata": {},
   "source": [
    "### Step 1 - Update Swing Progress\n",
    "The planner utilizes a fixed, preplanned gait pattern, parametrized by nine variables:\n",
    "- For each foot, two parameters ($t_a$ and $t_b$) define the start and end of the stance phase. This approach allows for the easy representation of various natural gait patterns, such as gallop and canter. In the following examples, a crawling gait will be primarily used. Additionally, a trotting gait has also been implemented.\n",
    "- An additional parameter defines the period over which the entire gait cycle is repeated."
   ]
  },
  {
   "cell_type": "code",
   "execution_count": null,
   "metadata": {},
   "outputs": [],
   "source": [
    "from project_code.planner import FootPlanner\n",
    "from project_code.utils import plot_t_ab\n",
    "\n",
    "time_steps = np.linspace(0, 5, 1000)\n",
    "period = 1.2\n",
    "t_ab, t_st, t_sw = FootPlanner._create_t_ab(gait = CRAWL,\n",
    "                                            period = period)\n",
    "\n",
    "plot_t_ab(t_ab, period, time_steps)"
   ]
  },
  {
   "cell_type": "markdown",
   "metadata": {},
   "source": [
    "In the gait pattern plot above, a value of zero corresponds to stance, while non-zero values indicate the swing phase. One issue identified in the current implementation is that for one leg, the planner initiates the robot in a swing phase, which will need to be corrected."
   ]
  },
  {
   "cell_type": "markdown",
   "metadata": {},
   "source": [
    "Based on these parameters, we transform the current time into the swing time domain, where the time is set to zero at the moment the foot lifts off the ground and to one when it touches down again. Post-touchdown, the value wraps around to a negative number, signaling the stance phase. \n",
    "\n",
    "An exception occurs during the first gait cycle, where we enforce constant values for all legs to prevent premature lifting upon initialization.\n",
    "\n",
    "The swing progress calculation begins by subtracting the touchdown time from the current time:\n",
    "\n",
    "$$\n",
    "\\tilde{t} = t - t_a\n",
    "$$"
   ]
  },
  {
   "cell_type": "code",
   "execution_count": null,
   "metadata": {},
   "outputs": [],
   "source": [
    "from project_code.utils import plot_t\n",
    "\n",
    "t_dash = time_steps[:, None] - t_ab[:, 0][None, :] # Do this for all legs in one step using broadcasting\n",
    "\n",
    "plot_t(t_dash, t_ab, period, time_steps)"
   ]
  },
  {
   "cell_type": "markdown",
   "metadata": {},
   "source": [
    "This step eliminates phase offsets, such that $\\tilde{t}$ represents the elapsed time since the first stance phase. For legs initially in swing, $\\tilde{t}$ will be negative. Using modulo division with the period $T$, time wraps after one cycle, and `np.fmod(x)` is used to ensure negative values can be retained:\n",
    "\n",
    "$$\n",
    "\\mathring{t} = fmod(\\tilde{t}, T)\n",
    "$$\n",
    "\n",
    "The function then clips negative values to zero, ensuring a stance phase for legs that should remain grounded initially:\n",
    "\n",
    "$$\n",
    "\\mathring{t}_c = clip(\\mathring{t}, \\: min=0, \\: max=T)\n",
    "$$"
   ]
  },
  {
   "cell_type": "code",
   "execution_count": null,
   "metadata": {},
   "outputs": [],
   "source": [
    "t_circ = np.fmod(t_dash, period)\n",
    "t_circ = np.clip(t_circ, 0, period)\n",
    "\n",
    "plot_t(t_circ, t_ab, period, time_steps)"
   ]
  },
  {
   "cell_type": "markdown",
   "metadata": {},
   "source": [
    "Finally, we map the swing progress from zero (start of swing phase) to one (end of swing phase) by applying a scale and shift transformation:\n",
    "\n",
    "$$\n",
    "\\tilde{t}_{sw} = \\frac{1}{t_{sw}} \\cdot (\\mathring{t}_c - t_{st})\n",
    "$$"
   ]
  },
  {
   "cell_type": "code",
   "execution_count": null,
   "metadata": {},
   "outputs": [],
   "source": [
    "sw_prog = 1 / (t_sw[None, :]) * (t_circ- t_st[None, :])\n",
    "\n",
    "plot_t(sw_prog, t_ab, period, time_steps)"
   ]
  },
  {
   "cell_type": "markdown",
   "metadata": {},
   "source": [
    "### Step 2 - Update of Stance Leg Position\n",
    "\n",
    "In this step, the positions of all feet in stance are stored. The current implementation assumes that any foot designated to be in stance remains in contact with the ground, updating its position accordingly. A more robust approach might involve detecting ground contact to determine foot positions. These positions, denoted as ${}_\\mathcal{O}p_{f}(t_{to})$, where $t_{to}$ is the foot's take-off time, will later be used to calculate the trajectory of swinging legs."
   ]
  },
  {
   "cell_type": "markdown",
   "metadata": {},
   "source": [
    "### Step 3 - Update of Swinging Feet Trajectories\n",
    "\n",
    "#### Step 3.1 - Calculation of Symmetrical Point\n",
    "\n",
    "To compute the trajectories of swinging feet, the position of the robot's hip (or shoulder) projected onto the ground at touchdown is estimated. This position is commonly referred to as the symmetrical point, as the foot reaches its maximum height at this location. The base body's position ${}_\\mathcal{O}p_b$ and yaw angle ${}_\\mathcal{O}\\psi_b$ at touchdown $t_{td}$ are estimated using the current linear and angular velocities:\n",
    "\n",
    "$${}_\\mathcal{O}p_b(t_{td}) \\approx {}_\\mathcal{O}p_b(t) + {}_\\mathcal{O}v_b(t) \\cdot (1 - \\tilde{t}_{sw})t_{sw}$$\n",
    "\n",
    "$${}_\\mathcal{O}\\psi_b(t_{td}) \\approx {}_\\mathcal{O}\\psi_b(t) + {}_\\mathcal{O}\\omega_{b,z}(t) \\cdot (1 - \\tilde{t}_{sw})t_{sw}$$\n",
    "\n",
    "where $\\tilde{t}_{sw}$ is the swing progress, and $t_{sw}$ is the duration of the swing phase. Although this information could be derived from the global planner, decoupling the foot trajectories from the desired body position allows the system to react to body dynamics.\n",
    "\n",
    "Using the estimated base position and orientation at touchdown, the hip position is calculated as:\n",
    "\n",
    "$$\n",
    "{}_\\mathcal{O}p_{hip}(t_{td}) =  {}_\\mathcal{O}p_b(t_{td}) + R_z\\left({}_\\mathcal{O}\\psi_b(t_{td})\\right){}_bp_{hip}\n",
    "$$"
   ]
  },
  {
   "cell_type": "markdown",
   "metadata": {},
   "source": [
    "#### Step 3.2 - Calculation of End Position of Swing Phase\n",
    "\n",
    "Given the stance phase duration and the base velocity, the distance covered by the base during this phase is computed. Following the Spring-Loaded Inverted Pendulum (SLIP) model, the foot is positioned to be at the midpoint of this motion:\n",
    "\n",
    "$$ \\Delta p_1 = {}_\\mathcal{O}v_b \\cdot \\frac{t_{st}}{2} $$\n",
    "\n",
    "Angular velocity also affects the hip's lateral movement, accounted for by:\n",
    "\n",
    "$$ \\Delta p_2 = R_z\\left({}_\\mathcal{O}\\psi_b(t_{td})\\right)\\left[R_z\\left({}_\\mathcal{O}\\omega_{b,z} \\cdot \\frac{t_{st}}{2}\\right)- I\\right] {}_bp_{hip} $$\n",
    "\n",
    "Additionally, velocity deviations are corrected to stabilize foot placement:\n",
    "\n",
    "$$ \\Delta p_3 = k_p({}_\\mathcal{O}v_b - {}_\\mathcal{O}v_{b,d}) $$\n",
    "\n",
    "where ${}_\\mathcal{O}v_{b,d}$ is the desired base velocity.\n",
    "\n",
    "Finally, centrifugal forces are considered, modeling the quadruped as an inverted pendulum:\n",
    "\n",
    "$$ \\Delta p_4 = \\frac{{}_\\mathcal{O}p_{b,z}}{-g}{}_\\mathcal{O}v_b \\times {}_\\mathcal{O}\\omega_{b} $$\n",
    "\n",
    "The final foot position at touchdown is then given by:\n",
    "\n",
    "$$ {}_\\mathcal{O}p_{f}(t_{td}) = {}_\\mathcal{O}p_{hip}(t_{td}) + \\Delta p_1 + \\Delta p_2 + \\Delta p_3 + \\Delta p_4 $$"
   ]
  },
  {
   "cell_type": "markdown",
   "metadata": {},
   "source": [
    "#### Step 3.3 - Calculation of Polynomial Coefficients\n",
    "\n",
    "The foot trajectories are parametrized using cubic polynomials, which minimize the foot's acceleration. The boundary conditions are:\n",
    "\n",
    "$$ p(0) = {}_\\mathcal{O}p_{f}(t_{to}), \\quad p(1) = {}_\\mathcal{O}p_{f}(t_{td})$$\n",
    "$$ v(0) = 0, \\quad v(1) = 0$$\n",
    "\n",
    "These conditions define the x and y polynomials, while the z trajectory is split into two parts, reaching a peak at $\\tilde{t}_{sw} = 0.5$. The resulting curves are visualized in the accompanying graph."
   ]
  },
  {
   "cell_type": "code",
   "execution_count": null,
   "metadata": {},
   "outputs": [],
   "source": [
    "from project_code.utils import plot_polynomials\n",
    "\n",
    "plot_polynomials()"
   ]
  },
  {
   "cell_type": "markdown",
   "metadata": {},
   "source": [
    "#### Step 3.4 - Calculation of Ground Contact Forces\n",
    "\n",
    "For legs in stance, the Model Predictive Controller (MPC) estimates the ground reaction forces necessary to achieve the base motion specified by the global planner. This process is further elaborated in the MPC section."
   ]
  },
  {
   "cell_type": "markdown",
   "metadata": {},
   "source": [
    "### Simulation and Verification using Inverse Kinematics\n",
    "\n",
    "To validate the performance of the planner, we integrate its outputs into a simulation of the robot's motion. The simulation calculates the joint positions required to achieve the desired base body pose and foot positions using an Inverse Kinematics (IK) algorithm. \n",
    "\n",
    "By providing the planned trajectories for the base and feet, the IK solver computes the corresponding joint angles for all four legs, ensuring that the robot adheres to the desired motion. This approach allows for a comprehensive evaluation of the planner, ensuring that the generated trajectories are feasible and the robot can physically achieve the commanded poses."
   ]
  },
  {
   "cell_type": "code",
   "execution_count": null,
   "metadata": {},
   "outputs": [],
   "source": [
    "import mujoco\n",
    "import mujoco.viewer\n",
    "import mediapy as media\n",
    "from project_code.state import State\n",
    "from project_code.constants import *\n",
    "from project_code.utils import IKNewton \n",
    "from project_code.planner import Planner\n",
    "\n",
    "file_name = \"model/scene.xml\" \n",
    "model = mujoco.MjModel.from_xml_path(file_name)\n",
    "data = mujoco.MjData(model)\n",
    "\n",
    "renderer = mujoco.Renderer(model)\n",
    "\n",
    "mujoco.mj_resetDataKeyframe(model, data, 0)\n",
    "mujoco.mj_forward(model, data)\n",
    "state = State(model, data)"
   ]
  },
  {
   "cell_type": "code",
   "execution_count": null,
   "metadata": {},
   "outputs": [],
   "source": [
    "#planner = Planner(CRAWL, 0.7, 0.25, 0.25, 0.25)\n",
    "planner = Planner(WALKING_TROT, 0.5, 0.5, 0.5, 0.25)"
   ]
  },
  {
   "cell_type": "code",
   "execution_count": null,
   "metadata": {},
   "outputs": [],
   "source": [
    "camera = mujoco.MjvCamera()\n",
    "mujoco.mjv_defaultFreeCamera(model, camera)\n",
    "camera.distance = 2\n",
    "camera.azimuth = 110\n",
    "\n",
    "frames = []\n",
    "\n",
    "mujoco.mj_resetDataKeyframe(model, data, 0)\n",
    "mujoco.mj_forward(model, data)\n",
    "  \n",
    "for i in range(1000):\n",
    "    planner.update_planner(state=state, mode=NO_FORCE)\n",
    "    X_d, vel, acc = planner.evaluate_trajectory(state.time())\n",
    "    q_d = IKNewton(X_d, state.get_qpos_euler())\n",
    "    state.set_qpos_euler(q_d)\n",
    "    \n",
    "    mujoco.mj_forward(model, data)\n",
    "    \n",
    "    camera.lookat = data.body('base').subtree_com\n",
    "    renderer.update_scene(data, camera)\n",
    "    pixels = renderer.render()\n",
    "    frames.append(pixels)\n",
    "    state.update_time(params['t_sim'] * 1)\n",
    "    \n",
    "media.show_video(frames, fps= 1 / (params['t_sim'] * 1))"
   ]
  },
  {
   "cell_type": "markdown",
   "metadata": {},
   "source": [
    "# 3. Model Predictive Control\n",
    "In order to control the trajectroy of the robot by applying contact forces through the legs during the stance phase several factors have to be considered:\n",
    "\n",
    "1. The relationship between the control inputs (forces applied) and the rate of variation in the robot states, which is reflected through a dynamic model of the system\n",
    "2. The tracking of a desired refrence signal, not only for the current timestep, but also for future timesteps.\n",
    "3. The constraints with respect to control inputs. For instance, for optimal traction and maintaining planner assumptions, slipping should be avoided by bounding the tangential components of the contact forces based on the magnitude of the normal components.\n",
    "\n",
    "To satisfy these requirements, **Model Predictive Control (MPC)** was implemented to realize finite horizon discrete time optimal control. The notable features of MPC are its ability to optimize control inputs over a prediction horizon based on a desired reference state trajectory and given dynamic model of the system, satisfying requirements 1 and 2. Essentially, the predictive and flexible nature of MPC enables more complex control scenarios compared to purely reactive controllers such as PID. Moreover, requirement 3 can be satisfied by formulating explicit constraints on the control inputs.\n",
    "\n",
    "This section contains details of an MPC implementation using a quadratic program solver and usage examples of the resulting python class.\n"
   ]
  },
  {
   "cell_type": "markdown",
   "metadata": {},
   "source": [
    "## 3.1 Single Rigid Body Dynamics\n",
    "\n",
    "The Model Predictive Control (MPC) implementation relies on a linearized, discrete-time dynamic model of the quadruped. Assuming that the robot’s mass is concentrated at the center of mass (CoM) and that the only external forces are the contact forces, the dynamics can be described using Newton and Euler laws:\n",
    "\n",
    "$$\n",
    "x_{k+1} = A_k x_k + B_k u_k\n",
    "$$\n",
    "\n",
    "where $ A_k $ and $ B_k $ are the state transition and input matrices at the $k$-th time step, and $ x_k $ and $ u_k $ represent the state and control input, respectively. By assuming that the roll and pitch rotations are negligible, we can derive the following formulation:\n",
    "\n",
    "$$\n",
    "A_k = \\begin{bmatrix}\n",
    "\\mathbb{I}_3 & 0_{3\\times3} & \\mathbb{I}_3\\Delta T & 0_{3\\times3} & 0_{3\\times1} \\\\\n",
    "0_{3\\times3} & \\mathbb{I}_3 & 0_{3\\times3} & R_z^T(\\psi)\\cdot\\Delta T & 0_{3\\times1} \\\\\n",
    "0_{3\\times3} & 0_{3\\times3} & \\mathbb{I}_3 & 0_{3\\times3} & e_z \\cdot \\Delta T \\\\\n",
    "0_{3\\times3} & 0_{3\\times3} & 0_{3\\times3} & \\mathbb{I}_3 & 0_{3\\times1} \\\\\n",
    "0_{1\\times3} & 0_{1\\times3} & 0_{1\\times3} & 0_{1\\times3} & 1\n",
    "\\end{bmatrix},\n",
    "$$\n",
    "\n",
    "where the state vector $ x_k $ is defined as:\n",
    "\n",
    "$$\n",
    "x_k = \\begin{bmatrix}\n",
    "{}_\\mathcal{O}p_{b} \\\\\n",
    "{}_\\mathcal{O}\\Theta_{b} \\\\\n",
    "{}_\\mathcal{O}v_{b} \\\\\n",
    "{}_\\mathcal{O}\\omega_{b} \\\\\n",
    "-g \n",
    "\\end{bmatrix},\n",
    "$$\n",
    "\n",
    "and the input matrix $ B_k $ is:\n",
    "\n",
    "$$\n",
    "B_k = \\begin{bmatrix}\n",
    "0_{3\\times3} & 0_{3\\times3} & 0_{3\\times3} & 0_{3\\times3} \\\\\n",
    "0_{3\\times3} & 0_{3\\times3} & 0_{3\\times3} & 0_{3\\times3} \\\\\n",
    "\\mathbb{I}_3 \\Delta T / m & \\mathbb{I}_3 \\Delta T / m & \\mathbb{I}_3 \\Delta T / m & \\mathbb{I}_3 \\Delta T / m \\\\\n",
    "\\Delta T \\left({}^{b}_\\mathcal{O}I\\right)^{-1} r_{1\\times} & \\Delta T \\left({}_\\mathcal{O}^{b}I\\right)^{-1} r_{2\\times} & \\Delta T \\left({}_\\mathcal{O}^{b}I\\right)^{-1} r_{3\\times} & \\Delta T \\left({}_\\mathcal{O}^{b}I\\right)^{-1} r_{4\\times} \\\\\n",
    "0_{1\\times3} & 0_{1\\times3} & 0_{1\\times3} & 0_{1\\times3}\n",
    "\\end{bmatrix},\n",
    "$$\n",
    "\n",
    "where:\n",
    "\n",
    "- $ \\Delta T $ is the time step, \n",
    "- $ R_z(\\psi) $ is the rotation matrix about the z-axis by angle $ \\psi $,\n",
    "- $ {}_\\mathcal{O}p_{b} $ and $ {}_\\mathcal{O}\\Theta_{b} $ represent the current position and orientation (roll-pitch-yaw) of the base body’s CoM,\n",
    "- $ {}_\\mathcal{O}v_{b} $ and $ {}_\\mathcal{O}\\omega_{b} $ represent the velocity of the base body,\n",
    "- $ m $ is the quadruped’s total mass,\n",
    "- $ {}_\\mathcal{O}^{b}I $ is the inertia matrix about the CoM in the world frame,\n",
    "- $ r_{i\\times} $ is the skew-symmetric matrix for the cross product with the relative position vector between each foot and the CoM,\n",
    "- $ g $ is the gravitational acceleration.\n",
    "\n",
    "The gravity constant $ g $ is incorporated directly into the state vector to remove bias terms from the dynamics. The contact state of the feet is not explicitly included in this model but is accounted for later through the MPC constraints.\n"
   ]
  },
  {
   "cell_type": "markdown",
   "metadata": {},
   "source": [
    "\n",
    "## 3.2. MPC Problem Definition\n",
    "The MPC problem can be stated as the following optimization problem over the control inputs $u_k$ and future predicted states $x_k$:\n",
    "$$\n",
    "\\begin{align*}\n",
    "J_k^*(x_k) = \\min_{\\{u_{k+i|k}\\}_{i=0}^{N-1}} \\quad & (x_{k+N|k} - x_{d_{k+N}})^T Q_N (x_{k+N|k} - x_{d_{k+N}})\n",
    "+ \\sum_{i=0}^{N-1} \\left( (x_{k+i|k} - x_{d_{k+i}})^T Q (x_{k+i|k} - x_{d_{k+i}}) + u_{k+i|k}^T R u_{k+i|k} \\right) \\\\\n",
    "\\text{subject to:} \\quad & x_{k+i+1|k} = A_{k+i|k} x_{k+i|k} + B u_{k+i|k}, \\quad \\forall i \\in \\{0, \\dots, N-1\\} \\\\\n",
    "& x_{k+i|k} \\in \\mathcal{X}, \\quad u_{k+i|k} \\in \\mathcal{U}, \\quad \\forall i \\in \\{0, \\dots, N-1\\} \\\\\n",
    "& x_{k+N|k} \\in \\mathcal{X}_f, \\\\\n",
    "& x_{k|k} = x_k,\n",
    "\\end{align*}\n",
    "$$\n",
    "With:\n",
    "- **$J$**: The cost function to be minimized\n",
    "- **$N$**: Length of the prediction horizon\n",
    "- **$x_{k+i|k}$**: The state vector at time step \\(k+i\\) given the initial state at time step \\(k\\)\n",
    "- **$x_{d_{k+i}}$**: The desired or reference state at time step \\(k+i\\)\n",
    "- **$u_{k+i|k}$**: The control input at time step \\(k+i\\) given the initial state at time step \\(k\\)\n",
    "- **$Q$**: Weight matrix for the state tracking error\n",
    "- **$R$**: Weight matrix for the control effort\n",
    "- **$Q_N$**: Terminal weight matrix for the state at the final time step \\(N\\)\n",
    "- **$x_{k+i+1|k} = A_{k+i|k} x_{k+i|k} + B u_{k+i|k}$**: Linearized discrete system dynamics at time step \\(k+i\\)\n",
    "- **$\\mathcal{X}$**: The feasible set of states\n",
    "- **$\\mathcal{U}$**: The feasible set of control inputs\n",
    "- **$x_k$**: The initial state given to the controller\n",
    "\n",
    "\n",
    "For ease of notation $A_{k+i|k}$ will be expressed by $A_{i+1}$ in the following. This optimization problem needs to be reevaluated at each MPC evaluation interval. (not necessarily each time step) The result is predicted optimal control input and state trajectories. The feasable sets pertaining to state and input costraints will be covered in more depth for a quadruped in a dedicated section.\n"
   ]
  },
  {
   "cell_type": "markdown",
   "metadata": {},
   "source": [
    "\n",
    "## 3.3. Quadratic Programming Formulation\n",
    "Quadratic programming (QP) refers to a well established class of constrained optimization with many existing efficient solvers in software. Due to the prevelance and generality of such solvers, MPC problems are often reformulated to fit a general quadratic program. In our case, the [OSQP](https://osqp.org/docs/index.html) solver is used due to its efficiency. (for a performance benchmark of existing solvers refer to [1])\n",
    "\n",
    "A quadratic program is defined as the following optimization problem: (OSQP notation)\n",
    "$$\n",
    "\\begin{align*}\n",
    "\\min_{x} \\quad & \\frac{1}{2} x^TPx + q^Tx\\\\\n",
    "\\text{subject to:} \\quad & l\\leq Ax \\leq u \\\\\n",
    "\\end{align*}\n",
    "$$\n",
    "\n",
    "Where $x$ is the optimization variable. A, l, and u represent the constraint matrix, lower bound and upper bound respectively.\n",
    "\n",
    "In order to solve the MPC problem as a QP, we need to construct the $P$ and $q$ matrices based on available MPC parameters, so that the optimization variable $x$ is equal to the compact control input vector $U = [u_{k|k}^T, u_{k+1|k}^T, \\dots, u_{k+N-1|k}^T]^T$. In order to achieve this, a relation between the compact state vector $X = [x_{k|k}^T, x_{k+1|k}^T, \\dots, x_{k+N|k}^T]^T$ and $U$ has to be deduced, yielding:\n",
    "\n",
    "$$\\mathbf{X} = \\mathbf{M} \\mathbf{x}_k + \\mathbf{C} \\mathbf{U}$$\n",
    "where:\n",
    "$$\n",
    "M = \\begin{bmatrix}\n",
    "A_1 \\\\\n",
    "A_1 \\cdot A_2 \\\\\n",
    "\\vdots \\\\\n",
    "\\prod_{i=1}^{N} A_i\n",
    "\\end{bmatrix}\n",
    ", \\quad\n",
    "C = \\begin{bmatrix}\n",
    "B & 0 & 0 & \\dots & 0 \\\\\n",
    "A_1 \\cdot B & B & 0 & \\dots & 0 \\\\\n",
    "A_1 \\cdot A_2 \\cdot B & A_1 \\cdot B & B & \\dots & 0 \\\\\n",
    "\\vdots & \\vdots & \\vdots &\\ddots & \\vdots \\\\\n",
    "\\prod_{i=1}^{N-1} A_i \\cdot B & \\prod_{i=1}^{N-2} A_i & \\prod_{i=1}^{N-3} A_i \\cdot B & \\dots & B\n",
    "\\end{bmatrix}\n",
    "$$\n",
    "are compact prediction matrices. Based on the above equation, The cost function can be rewritten as:\n",
    "$$ J = (X - X_d)^T \\bar{Q} (X - X_d) + U^T \\bar{R} U$$\n",
    "where:\n",
    "$$\n",
    "\\bar{Q} = \\begin{bmatrix}\n",
    "Q & 0 & \\dots & 0 \\\\\n",
    "0 & Q & \\dots & 0 \\\\\n",
    "\\vdots & \\vdots & \\ddots & \\vdots \\\\\n",
    "0 & 0 & \\dots & Q_N\n",
    "\\end{bmatrix}\n",
    ", \\quad\n",
    "\\bar{R} = \\begin{bmatrix}\n",
    "R & 0 & \\dots & 0 \\\\\n",
    "0 & R & \\dots & 0 \\\\\n",
    "\\vdots & \\vdots & \\ddots & \\vdots \\\\\n",
    "0 & 0 & \\dots & R\n",
    "\\end{bmatrix}\n",
    "$$\n",
    "Finally, by using the compact prediction equation, P and q can be written as:\n",
    "$$\n",
    "P = 2 \\left( C^T \\bar{Q} C + \\bar{R} \\right)\n",
    ", \\quad\n",
    "q = 2 \\left((M x_k - X_d)^T \\bar{Q} C \\right)^T\n",
    "$$\n"
   ]
  },
  {
   "cell_type": "markdown",
   "metadata": {},
   "source": [
    "\n",
    "## 3.4. Constraint Formulation for a Quadruped\n",
    "The dynamics constraints are implicitely enforced through the above compact prediction equations. In our case, the control inputs are the 3D contact forces applied by each leg. Given a friction constant $\\mu$ between the feet and the floor, $\\sqrt{F_x^2 + F_y^2} \\leq \\mu F_z$ formalizes the static friction requirements, while $0 \\leq F_z \\leq F_{max}$ prevents the robot from lifting a foot or exerting too much force that may end the stance phase prematurely. Since the square root is non-linear, the friction and normal force constraints can be approximated for one leg as:\n",
    "$$\n",
    "A_{leg} = \\begin{bmatrix}\n",
    "-1 &0 &\\mu \\\\\n",
    "0 &-1 &\\mu \\\\\n",
    "1 &0 &\\mu \\\\\n",
    "0 &1 &\\mu \\\\\n",
    "0 &0 &1\n",
    "\\end{bmatrix}\n",
    ", \\quad \n",
    "l_{leg} = \\begin{bmatrix}\n",
    "0 \\\\\n",
    "\\vdots \\\\\n",
    "0 \\\\\n",
    "\\end{bmatrix}\n",
    ", \\quad\n",
    "u_{leg} = \\begin{bmatrix}\n",
    "\\infty \\\\\n",
    "\\infty \\\\\n",
    "\\infty \\\\\n",
    "\\infty \\\\\n",
    "F_{max}\n",
    "\\end{bmatrix}\n",
    "$$\n",
    "Moreover, additional input constraints are in place for legs that are currently in the swing, phase by forcing the forces to be zero. (constraint matrix and uper and lower bounds set to identity and zero, respectively). This effectively decouples the stance and swing controllers. By concatonating these constraints for all legs, the final constraint matrix $A$ and bounds $l$ and $u$ can be constructed. The final constrained QP problem can be solved using the OSQP solver."
   ]
  },
  {
   "cell_type": "markdown",
   "metadata": {},
   "source": [
    "## 3.5. Implementation\n",
    "A generalized python MPC solver class using the OSQP solver is implemented in `project_code/planner/mpc.py`. The class `MPC` is initialized and its features are demonstrated in the following examples:"
   ]
  },
  {
   "cell_type": "code",
   "execution_count": null,
   "metadata": {},
   "outputs": [],
   "source": [
    "from project_code.planner.mpc import MPC\n",
    "import numpy as np\n",
    "\n",
    "# simple decoupled decaying system (system will asymptotically approach the origin)\n",
    "nx = 2\n",
    "nu = 2\n",
    "N = 20\n",
    "Ak = np.array([[0.8, 0.0], [0.0, 0.5]])\n",
    "Bk = np.eye(nx)\n",
    "\n",
    "# define stage cost matrices (for each time step)\n",
    "Q = 10*np.eye(nx)\n",
    "R = np.eye(nu)\n",
    "\n",
    "# initial and desired state\n",
    "xk = np.zeros(nx)\n",
    "Xd = np.ones((N, nx))"
   ]
  },
  {
   "cell_type": "markdown",
   "metadata": {},
   "source": [
    "Unconstrained MPC example"
   ]
  },
  {
   "cell_type": "code",
   "execution_count": null,
   "metadata": {},
   "outputs": [],
   "source": [
    "from project_code.utils import plot_mpc\n",
    "\n",
    "# initialize unconstrained MPC\n",
    "mpc1 = MPC(xk=xk, Xd=Xd, N=N, Ak=Ak, Bk=Bk, Q=Q, R=R, measure_runtime=True)\n",
    "# get predicted optimal control input\n",
    "U = mpc1.solve()\n",
    "\n",
    "X = mpc1.get_predicted_state()\n",
    "\n",
    "J = mpc1.get_predicted_cost()\n",
    "runtime_mpc = mpc1.get_runtime()\n",
    "print(f'Predicted cost: {J}')\n",
    "print(f'Runtime: {runtime_mpc/1e6:.2f} ms')\n",
    "\n",
    "plot_mpc('Unconstrained MPC Example', xk, X, Xd, U)"
   ]
  },
  {
   "cell_type": "code",
   "execution_count": null,
   "metadata": {},
   "outputs": [],
   "source": [
    "# introduce input constraints\n",
    "umax = np.array([0.5, 0.8])\n",
    "umin = np.zeros(2)\n",
    "mpc2 = MPC(xk=xk, Xd=Xd, N=N, Ak=Ak, Bk=Bk, Q=Q, R=R, umin=umin, umax=umax, measure_runtime=True)\n",
    "\n",
    "U = mpc2.solve()\n",
    "X = mpc2.get_predicted_state()\n",
    "J = mpc2.get_predicted_cost()\n",
    "runtime_mpc = mpc2.get_runtime()\n",
    "print(f'Predicted cost: {J}')\n",
    "print(f'Runtime: {runtime_mpc/1e6:.2f} ms')\n",
    "\n",
    "plot_mpc('Constrained MPC Example', xk, X, Xd, U, umin, umax)"
   ]
  },
  {
   "cell_type": "markdown",
   "metadata": {},
   "source": [
    "Higher costs are observed and inputs are limited as expected. Now the MPC update function allowes efficent calculation of only necessary parameters to greatly reduce runtime. In the following example, only the initial state and dynamics are slightly changed, which is a common scenario in practice when the MPC is running in a loop."
   ]
  },
  {
   "cell_type": "code",
   "execution_count": null,
   "metadata": {},
   "outputs": [],
   "source": [
    "# update initial state and dynamics\n",
    "xk = np.array([0.05, 0.05])\n",
    "Ak = np.array([[0.9, 0.0], [0.0, 0.6]])\n",
    "\n",
    "mpc2.update(xk= xk, Ak= Ak)\n",
    "U = mpc2.solve()\n",
    "X = mpc2.get_predicted_state()\n",
    "J = mpc2.get_predicted_cost()\n",
    "runtime_mpc = mpc2.get_runtime()\n",
    "print(f'Predicted cost: {J}')\n",
    "print(f'Runtime: {runtime_mpc/1e6:.2f} ms')\n",
    "\n",
    "plot_mpc('Constrained MPC with Updated State and Dynamics', xk, X, Xd, U, umin, umax)"
   ]
  },
  {
   "cell_type": "markdown",
   "metadata": {},
   "source": [
    "Similarly, the MPC class is utilized in the controller with the distiction that time varying dynamics are used and the above mentioned quadruped constraint matrices are calculated and given by the higher level controller."
   ]
  },
  {
   "cell_type": "markdown",
   "metadata": {},
   "source": [
    "## 4. Control Strategy\n",
    "\n",
    "Our control strategy employs two distinct controllers: one for legs in swing phase and another for legs in stance phase. Each controller is tailored to the specific task at hand, ensuring precise coordination between the legs.\n",
    "\n",
    "### Stance Leg Control\n",
    "\n",
    "For legs in stance phase, we apply the forces computed by the Model Predictive Controller (MPC). These forces are projected into the joint space using the translational Jacobian of the foot to generate the corresponding generalized joint torques. This projection is given by:\n",
    "\n",
    "$$\n",
    "\\tau = J^T F\n",
    "$$\n",
    "\n",
    "where $ J $ is the Jacobian matrix, $ F $ represents the force vectors, and $ \\tau $ denotes the resulting joint torques.\n",
    "\n",
    "### Swing Leg Control\n",
    "\n",
    "For legs in swing phase, a feedback linearization controller is employed to track the desired swing trajectory. The control law is defined as:\n",
    "\n",
    "$$\n",
    "\\nu = J^{-1} \\left( a_d + K_D (v_d - v) + K_P (x_d - x) - \\dot{J} \\dot{q} \\right)\n",
    "$$\n",
    "\n",
    "Here, $ \\nu $ represents the control input, $ a_d $ is the desired acceleration, $ v_d $ and $ v $ are the desired and actual velocities, and $ x_d $ and $ x $ are the desired and actual positions, respectively. $ K_D $ and $ K_P $ are the damping and stiffness gains, while $ \\dot{J} \\dot{q} $ accounts for the changing Jacobian with respect to time.\n",
    "\n",
    "The generalized joint torques $ \\tau $ are computed as:\n",
    "\n",
    "$$\n",
    "\\tau = M(q) \\nu + h(q, \\dot{q})\n",
    "$$\n",
    "\n",
    "where $ M(q) $ is the mass matrix, and $ h(q, \\dot{q}) $ accounts for the Coriolis and gravitational forces.\n",
    "\n",
    "### Controller Decoupling\n",
    "\n",
    "To ensure that each controller operates independently, a masking technique is employed using the stance phase indicator. This allows for selectively zeroing out control values when necessary, preventing any interference between the swing and stance phase controllers.\n"
   ]
  },
  {
   "cell_type": "markdown",
   "metadata": {},
   "source": [
    "## 5. Simulation and Results\n",
    "\n",
    "To assess the performance of the planner and control strategies, we conducted a full dynamic simulation of the robot, integrating all components of the system. This includes the global and local planners as well as the stance and swing leg controllers\n",
    "\n",
    "The simulation provides a comprehensive evaluation of the robot’s motion, allowing us to verify the effectiveness of the trajectory generation, control laws, and overall system coordination. \n",
    "\n",
    "The following sections provide detailed analyses of the simulation results, showcasing the robot's response to different velocity inputs and gait configurations.\n"
   ]
  },
  {
   "cell_type": "code",
   "execution_count": null,
   "metadata": {},
   "outputs": [],
   "source": [
    "from project_code.controller import leg_controller\n",
    "\n",
    "#planner = Planner(CRAWL, 0.7, 0.25, 0.0, 0.125)\n",
    "planner = Planner(WALKING_TROT, 0.5, 0.5, 0.0, 0.25)"
   ]
  },
  {
   "cell_type": "code",
   "execution_count": null,
   "metadata": {},
   "outputs": [],
   "source": [
    "mujoco.mj_resetDataKeyframe(model, data, 0)\n",
    "mujoco.mj_forward(model, data)\n",
    "model.opt.timestep = 0.01\n",
    "\n",
    "pos_ds = []\n",
    "pos_ms = []\n",
    "\n",
    "vel_ds = []\n",
    "vel_ms = []\n",
    "\n",
    "frames = []\n",
    "\n",
    "camera = mujoco.MjvCamera()\n",
    "mujoco.mjv_defaultFreeCamera(model, camera)\n",
    "camera.distance = 2\n",
    "camera.azimuth = 90  # Angle around the Z-axis, adjust as needed\n",
    "  \n",
    "for i in range(700):\n",
    "    if i % 1 == 0: planner.update_planner(state=state)\n",
    "    pos_d, vel_d, _ = planner.evaluate_trajectory(state.time())\n",
    "\n",
    "    pos_ds.append(pos_d)\n",
    "    pos_ms.append(state.get_xpos())\n",
    "    \n",
    "    vel_ds.append(vel_d)\n",
    "    vel_ms.append(state.get_xvel())\n",
    "\n",
    "    tau = leg_controller(state, *planner.get_control_inputs(state.time()))\n",
    "    state.get_data().ctrl = tau\n",
    "    \n",
    "    mujoco.mj_step(model, state.get_data())\n",
    "    \n",
    "    camera.lookat = state.get_data().body('base').subtree_com\n",
    "    renderer.update_scene(data, camera)\n",
    "    pixels = renderer.render()\n",
    "    frames.append(pixels)\n",
    "    \n",
    "media.show_video(frames, fps=1 / (model.opt.timestep))"
   ]
  },
  {
   "cell_type": "markdown",
   "metadata": {},
   "source": [
    "We also evaluate the controller's ability to accurately track the planned trajectories, assessing how effectively the robot's motion adheres to the desired path during both the swing and stance phases."
   ]
  },
  {
   "cell_type": "code",
   "execution_count": null,
   "metadata": {},
   "outputs": [],
   "source": [
    "from project_code.utils import plot_desired_vs_measured\n",
    "\n",
    "plot_desired_vs_measured(pos_ds, pos_ms, vel_ds, vel_ms)"
   ]
  },
  {
   "cell_type": "markdown",
   "metadata": {},
   "source": [
    "### Areas for Improvement\n",
    "\n",
    "While the current implementation provides satisfactory results in many cases, several areas require further refinement for enhanced performance:\n",
    "\n",
    "- **Center of Mass (CoM) Estimation:** The estimation of the robot's CoM could be improved, particularly for executing Sinlge Rigid Body Dynamics (SRBD) more accurately. Enhancing this estimation would lead to more precise motion control and stability during dynamic movements. This would hopefully allow us, to reduce the update frequency of the MPC planner.\n",
    "  \n",
    "- **Handling Multiple Turns:** The robot encounters challenges when performing multiple consecutive turns around its own axis. \n",
    "\n",
    "- **Body Orientation Tracking:** The current controller exhibits some discrepancies in maintaining the desired body orientation. Improved orientation tracking is essential to ensure the robot follows the planned trajectory more accurately, particularly during complex maneuvers.\n",
    "\n",
    "- **Whole Body Impulse Dynamics (WBID) Implementation:** Future work could include the implementation of Whole Body Impulse Dynamics to compare performance and robustness against the current control strategies. This would enable better handling of high-impact events, such as foot impacts during locomotion.\n"
   ]
  },
  {
   "cell_type": "markdown",
   "metadata": {},
   "source": [
    "# 6. References\n",
    "\n",
    "[1] https://github.com/qpsolvers/qpbenchmark"
   ]
  }
 ],
 "metadata": {
  "kernelspec": {
   "display_name": "Python (mjpython)",
   "language": "python",
   "name": "mjpython"
  },
  "language_info": {
   "codemirror_mode": {
    "name": "ipython",
    "version": 3
   },
   "file_extension": ".py",
   "mimetype": "text/x-python",
   "name": "python",
   "nbconvert_exporter": "python",
   "pygments_lexer": "ipython3",
   "version": "3.12.2"
  }
 },
 "nbformat": 4,
 "nbformat_minor": 2
}
